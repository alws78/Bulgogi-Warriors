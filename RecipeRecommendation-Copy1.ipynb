{
 "cells": [
  {
   "cell_type": "markdown",
   "id": "a36f49a4",
   "metadata": {},
   "source": [
    "# import"
   ]
  },
  {
   "cell_type": "code",
   "execution_count": 1,
   "id": "ab5ce9f1",
   "metadata": {},
   "outputs": [],
   "source": [
    "import json\n",
    "import random"
   ]
  },
  {
   "cell_type": "markdown",
   "id": "b3db7c36",
   "metadata": {},
   "source": [
    "# Recipe Recommendation code "
   ]
  },
  {
   "cell_type": "code",
   "execution_count": 2,
   "id": "47fe3769",
   "metadata": {},
   "outputs": [],
   "source": [
    "class RecipeRecommendation():\n",
    "\n",
    "    def __init__(self, data_path):\n",
    "        self.default_ingredients = {'물', ''}\n",
    "        self.recipes = self._load_index(data_path)\n",
    "        self.non_recipe = '적합한 레시피가 없습니다.\\n 다시 시도해주세요.'\n",
    "\n",
    "    def _load_index(self, data_path):\n",
    "        '''\n",
    "        요리 정보 json 파일 경로에서 데이터를 읽고 인덱싱\n",
    "\n",
    "        :param data_path: 요리 정보 json 파일 경로\n",
    "        :return: 인덱싱된 요리 리스트\n",
    "        '''\n",
    "        with open(data_path, \"r\", encoding='utf-8') as f:\n",
    "            json_data = json.load(f)\n",
    "        recipes = []\n",
    "        for row in json_data['COOKRCP01']['row']:\n",
    "            name = row[\"RCP_NM\"]\n",
    "            ingredient = row[\"RCP_PARTS_DTLS\"]\n",
    "            method = \"\"\n",
    "            for i in range(1, 19):\n",
    "                if i < 10:\n",
    "                    mamula = row[\"MANUAL0\" + str(i)]\n",
    "                else:\n",
    "                    mamula = row[\"MANUAL\" + str(i)]\n",
    "                method += mamula + \"\\n\"\n",
    "\n",
    "            method = method.strip()\n",
    "            cooking_ingredients = ingredient.replace('\\n', ', ')\n",
    "            cooking_ingredients = [i.strip().split(' ')[0].split('(')[0] for i in cooking_ingredients.split(',')]\n",
    "\n",
    "            cooking_ingredients = set(cooking_ingredients) - self.default_ingredients\n",
    "            recipes.append({\"dish\": name, \"ingredient\": ingredient, \"method\": method, 'index': cooking_ingredients})\n",
    "        return recipes\n",
    "\n",
    "    def _find_recipe(self, find_ingredients):\n",
    "        '''\n",
    "        유사 요리 탐색\n",
    "        요리 재료의 교집합이 가장 높은 조리법 중 랜덤으로 하나 선택\n",
    "        :param find_ingredients: 사용자 검색 요리 재료\n",
    "        :return: 추천 요리법\n",
    "        '''\n",
    "        find_ingredients = set(find_ingredients)\n",
    "        result_ingredients = {}\n",
    "        for recipe in self.recipes:\n",
    "            recipe_ingredients = recipe['index']\n",
    "            intersection = len(recipe_ingredients & find_ingredients)\n",
    "            if intersection == 0:\n",
    "                continue\n",
    "            if intersection in result_ingredients:\n",
    "                result_ingredients[intersection].append(recipe)\n",
    "            else:\n",
    "                result_ingredients[intersection] = [recipe]\n",
    "        top_index = sorted(result_ingredients.keys(), reverse=True)[0]\n",
    "        result_ingredient_list = result_ingredients[top_index]\n",
    "        return random.choice(result_ingredient_list)\n",
    "\n",
    "    def find_recipe(self, find_ingredients):\n",
    "        '''\n",
    "        추천 요리 반환\n",
    "        :param find_ingredients: 사용자 검색 요리 재료\n",
    "        :return: 추천 요리명과 요리법\n",
    "        '''\n",
    "        rec_recipe = self._find_recipe(find_ingredients)\n",
    "        result = f\"요리명 : {rec_recipe['dish']}\\n=== 요리법 ===\\n{rec_recipe['method']}\"\n",
    "        return result\n"
   ]
  },
  {
   "cell_type": "markdown",
   "id": "e6c0e34a",
   "metadata": {},
   "source": [
    "# Recipe Recommendation 사용법\n",
    "- 객체 선언"
   ]
  },
  {
   "cell_type": "code",
   "execution_count": 3,
   "id": "86a12a01",
   "metadata": {},
   "outputs": [],
   "source": [
    "target_path = \"./1000.json\"\n",
    "recipe_recommendation = RecipeRecommendation(target_path)"
   ]
  },
  {
   "cell_type": "markdown",
   "id": "5c41cfbb",
   "metadata": {},
   "source": [
    "- 사용 예시 입니다."
   ]
  },
  {
   "cell_type": "code",
   "execution_count": 15,
   "id": "35a3974e",
   "metadata": {},
   "outputs": [
    {
     "name": "stdout",
     "output_type": "stream",
     "text": [
      "요리명 : 칼륨 듬뿍 고구마죽\n",
      "=== 요리법 ===\n",
      "1. 고구마는 깨끗이 씻어서 껍질을 벗기고 4cm 정도로 잘라준다.a\n",
      "2. 찜기에 고구마를 넣고 20~30분 정도 삶아 주고, 블렌더나 체를 이용하여 잘 으깨어 곱게 만든다.b\n",
      "3. 고구마와 물을 섞어 끓이면서 찹쌀가루로 농도를 맞추고 설탕을 넣어 맛을 낸다.c\n",
      "4. 잣을 팬에 노릇하게 볶아 다져서 고구마 죽에 섞는다. 기호에 따라 고구마를 튀겨 얹어 먹어도 좋다.\n"
     ]
    }
   ],
   "source": [
    "find_ingredients = ['고구마죽', '', '']\n",
    "recipe_recommendation = RecipeRecommendation(target_path)\n",
    "result = recipe_recommendation.find_recipe(find_ingredients)\n",
    "print(result)"
   ]
  },
  {
   "cell_type": "code",
   "execution_count": null,
   "id": "ef882a50",
   "metadata": {},
   "outputs": [],
   "source": []
  },
  {
   "cell_type": "code",
   "execution_count": null,
   "id": "a279476d",
   "metadata": {},
   "outputs": [],
   "source": []
  },
  {
   "cell_type": "code",
   "execution_count": null,
   "id": "c5b5cf7d",
   "metadata": {},
   "outputs": [],
   "source": []
  }
 ],
 "metadata": {
  "kernelspec": {
   "display_name": "Python 3 (ipykernel)",
   "language": "python",
   "name": "python3"
  },
  "language_info": {
   "codemirror_mode": {
    "name": "ipython",
    "version": 3
   },
   "file_extension": ".py",
   "mimetype": "text/x-python",
   "name": "python",
   "nbconvert_exporter": "python",
   "pygments_lexer": "ipython3",
   "version": "3.9.7"
  }
 },
 "nbformat": 4,
 "nbformat_minor": 5
}
