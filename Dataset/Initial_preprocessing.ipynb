{
 "cells": [
  {
   "cell_type": "code",
   "execution_count": 87,
   "id": "brave-documentation",
   "metadata": {},
   "outputs": [],
   "source": [
    "from xml.etree.ElementTree import parse\n",
    "import pandas as pd\n",
    "path=\"/Users/user/SE/\"\n",
    "tree=parse(path+\"1000.xml\")\n",
    "root=tree.getroot()\n",
    "from string import punctuation"
   ]
  },
  {
   "cell_type": "code",
   "execution_count": 88,
   "id": "satisfied-strengthening",
   "metadata": {},
   "outputs": [],
   "source": [
    "df=[]"
   ]
  },
  {
   "cell_type": "code",
   "execution_count": 89,
   "id": "based-minneapolis",
   "metadata": {},
   "outputs": [],
   "source": [
    "for element in root.findall(\"row\"):\n",
    "    name=element.findtext(\"RCP_NM\")\n",
    "    ingredient=element.findtext(\"RCP_PARTS_DTLS\")\n",
    "    manual1=element.findtext(\"MANUAL01\")\n",
    "    manual2=element.findtext(\"MANUAL02\")\n",
    "    manual3=element.findtext(\"MANUAL03\")\n",
    "    manual4=element.findtext(\"MANUAL04\")\n",
    "    manual5=element.findtext(\"MANUAL05\")\n",
    "    manual6=element.findtext(\"MANUAL06\")\n",
    "    manual7=element.findtext(\"MANUAL07\")\n",
    "    manual8=element.findtext(\"MANUAL08\")\n",
    "    manual9=element.findtext(\"MANUAL09\")\n",
    "    manual10=element.findtext(\"MANUAL10\")\n",
    "    manual11=element.findtext(\"MANUAL11\")\n",
    "    manual12=element.findtext(\"MANUAL12\")\n",
    "    manual13=element.findtext(\"MANUAL13\")\n",
    "    manual14=element.findtext(\"MANUAL14\")\n",
    "    manual15=element.findtext(\"MANUAL15\")\n",
    "    manual16=element.findtext(\"MANUAL16\")\n",
    "    manual17=element.findtext(\"MANUAL17\")\n",
    "    manual18=element.findtext(\"MANUAL18\")\n",
    "    manual19=element.findtext(\"MANUAL19\")\n",
    "    df.append({\"요리명\":name, \"재료\":ingredient,\"요리법\":manual1+manual2+manual3+manual4+manual5+manual6+manual7+manual8+manual9+manual10+manual11+manual12+manual13+manual14+manual15+manual16+manual17+manual18+manual19})"
   ]
  },
  {
   "cell_type": "code",
   "execution_count": 90,
   "id": "hungarian-composer",
   "metadata": {},
   "outputs": [],
   "source": [
    "df=pd.DataFrame(df)"
   ]
  },
  {
   "cell_type": "code",
   "execution_count": 91,
   "id": "considered-slovenia",
   "metadata": {},
   "outputs": [],
   "source": [
    "df['요리법'] =df['요리법'].apply(lambda x: x.replace(\"1.\",''))\n",
    "df['요리법'] =df['요리법'].apply(lambda x: x.replace(\"2.\",''))\n",
    "df['요리법'] =df['요리법'].apply(lambda x: x.replace(\"3.\",''))\n",
    "df['요리법'] =df['요리법'].apply(lambda x: x.replace(\"4.\",''))\n",
    "df['요리법'] =df['요리법'].apply(lambda x: x.replace(\"5.\",''))\n",
    "df['요리법'] =df['요리법'].apply(lambda x: x.replace(\"6.\",''))\n",
    "df['요리법'] =df['요리법'].apply(lambda x: x.replace(\"7.\",''))\n",
    "df['요리법'] =df['요리법'].apply(lambda x: x.replace(\"8.\",''))\n",
    "df['요리법'] =df['요리법'].apply(lambda x: x.replace(\"9.\",''))\n",
    "df['요리법'] =df['요리법'].apply(lambda x: x.replace(\"10.\",''))\n",
    "df['요리법'] =df['요리법'].apply(lambda x: x.replace(\"11.\",''))\n",
    "df['요리법'] =df['요리법'].apply(lambda x: x.replace(\"12.\",''))\n",
    "df['요리법'] =df['요리법'].apply(lambda x: x.replace(\"13.\",''))\n",
    "df['요리법'] =df['요리법'].apply(lambda x: x.replace(\"14.\",''))\n",
    "df['요리법'] =df['요리법'].apply(lambda x: x.replace(\"15.\",''))\n",
    "df['요리법'] =df['요리법'].apply(lambda x: x.replace(\"16.\",''))\n",
    "df['요리법'] =df['요리법'].apply(lambda x: x.replace(\"17.\",''))\n",
    "df['요리법'] =df['요리법'].apply(lambda x: x.replace(\"18.\",''))\n",
    "df['요리법'] =df['요리법'].apply(lambda x: x.replace(\"19.\",''))\n",
    "df['요리법'] =df['요리법'].apply(lambda x: x.replace(\"a\",''))\n",
    "df['요리법'] =df['요리법'].apply(lambda x: x.replace(\"b\",''))\n",
    "df['요리법'] =df['요리법'].apply(lambda x: x.replace(\"c\",''))"
   ]
  },
  {
   "cell_type": "code",
   "execution_count": 92,
   "id": "found-master",
   "metadata": {},
   "outputs": [],
   "source": [
    "df.to_csv(\"dataset.csv\",encoding='utf-8-sig')"
   ]
  },
  {
   "cell_type": "code",
   "execution_count": 93,
   "id": "everyday-chapel",
   "metadata": {},
   "outputs": [
    {
     "data": {
      "text/html": [
       "<div>\n",
       "<style scoped>\n",
       "    .dataframe tbody tr th:only-of-type {\n",
       "        vertical-align: middle;\n",
       "    }\n",
       "\n",
       "    .dataframe tbody tr th {\n",
       "        vertical-align: top;\n",
       "    }\n",
       "\n",
       "    .dataframe thead th {\n",
       "        text-align: right;\n",
       "    }\n",
       "</style>\n",
       "<table border=\"1\" class=\"dataframe\">\n",
       "  <thead>\n",
       "    <tr style=\"text-align: right;\">\n",
       "      <th></th>\n",
       "      <th>요리명</th>\n",
       "      <th>재료</th>\n",
       "      <th>요리법</th>\n",
       "    </tr>\n",
       "  </thead>\n",
       "  <tbody>\n",
       "    <tr>\n",
       "      <th>0</th>\n",
       "      <td>칼륨 듬뿍 고구마죽</td>\n",
       "      <td>고구마죽\\n고구마 100g(2/3개), 설탕 2g(1/3작은술), 찹쌀가루 3g(2...</td>\n",
       "      <td>고구마는 깨끗이 씻어서 껍질을 벗기고 4m 정도로 잘라준다. 찜기에 고구마를 넣고...</td>\n",
       "    </tr>\n",
       "    <tr>\n",
       "      <th>1</th>\n",
       "      <td>누룽지 두부 계란죽</td>\n",
       "      <td>채소준비\\n애호박 30g(1/6개), 표고버섯 20g(2개), 당근 5g(3×2×1...</td>\n",
       "      <td>깨끗이 씻어 손질한 애호박, 당근과 기둥을 뗀 표고버섯을 잘게 다지듯이 썬다. 누...</td>\n",
       "    </tr>\n",
       "    <tr>\n",
       "      <th>2</th>\n",
       "      <td>오색지라시 스시</td>\n",
       "      <td>초밥\\n밥 210g(1공기)\\n배합초\\n식초 20g(1⅓큰술), 설탕 10g(2작은...</td>\n",
       "      <td>배합초는 중불에서 설탕이 녹을 때까지 저어가면서 녹인다. 뜨거운 밥에 배합초를 넣...</td>\n",
       "    </tr>\n",
       "    <tr>\n",
       "      <th>3</th>\n",
       "      <td>두부 곤약 나물 비빔밥</td>\n",
       "      <td>두부 곤약잡곡밥\\n두부 110g(⅓모), 흰쌀 15g, 현미쌀 3g, 찹쌀 3g, ...</td>\n",
       "      <td>고사리는 상태에 따라 2~5시간 정도 불린 후 30분 정도 삶아 찬물에 헹구어 물...</td>\n",
       "    </tr>\n",
       "    <tr>\n",
       "      <th>4</th>\n",
       "      <td>저염 간장을 이용한 닭개장 비빔밥</td>\n",
       "      <td>흑미밥\\n쌀 90g, 검은 쌀 10g\\n닭가슴살 삶기\\n닭가슴살 40g(1/3개),...</td>\n",
       "      <td>쌀은 30분 정도 불린 후 물을 1:1로 하여 밥을 짓는다. 숙주는 끓는 소금물에...</td>\n",
       "    </tr>\n",
       "    <tr>\n",
       "      <th>...</th>\n",
       "      <td>...</td>\n",
       "      <td>...</td>\n",
       "      <td>...</td>\n",
       "    </tr>\n",
       "    <tr>\n",
       "      <th>995</th>\n",
       "      <td>과일과 해산물을 곁들인 야채 전병</td>\n",
       "      <td>새우 15g, 홍합 8g, 바지락 8g, 관자 8g, 피망 8g, 오이 10g, 키...</td>\n",
       "      <td>새우, 홍합, 바지락의 껍질을 제거하여 살만 발라 1m 정도의 주사위모양으로 썰어...</td>\n",
       "    </tr>\n",
       "    <tr>\n",
       "      <th>996</th>\n",
       "      <td>낫토 시래기 라이스전</td>\n",
       "      <td>밥 40g, 양파다진것 10g, 당근다진것 5g, 낫토 15g, 시래기불린것 10g...</td>\n",
       "      <td>양파와 당근은 잘게 다진다. 시래기는 불려 물기를 꼭 짜낸다. 2번의 시래기를 곱...</td>\n",
       "    </tr>\n",
       "    <tr>\n",
       "      <th>997</th>\n",
       "      <td>나스와 샐러드</td>\n",
       "      <td>달걀 20g, 완두콩 5g, 오이 10g, 토마토 20g, 레드어니언 10g, 로메...</td>\n",
       "      <td>달걀은 완숙으로 삶아 껍질을 벗긴 뒤 세로로 4등분하고 완두콩은 끓는 물에 삶아 ...</td>\n",
       "    </tr>\n",
       "    <tr>\n",
       "      <th>998</th>\n",
       "      <td>다시마전</td>\n",
       "      <td>다시마 30g, 영양부추 3g, 청고추다진것 3g, 홍고추다진것 3g, 새우살다진것...</td>\n",
       "      <td>냄비에 다시마가 잠길 정도의 물을 붓고 중불에서 삶아 10여분 두었다가 건져 찬물...</td>\n",
       "    </tr>\n",
       "    <tr>\n",
       "      <th>999</th>\n",
       "      <td>모듬옥수수</td>\n",
       "      <td>옥수수 35g, 잣 3g, 청피망 25g, 당근 25g, 닭고기 35g, 식용유 1...</td>\n",
       "      <td>청피망, 당근, 닭고기를 옥수수알 크기로 썬다. 팬에 닭고기를 볶는다. 2에 당근...</td>\n",
       "    </tr>\n",
       "  </tbody>\n",
       "</table>\n",
       "<p>1000 rows × 3 columns</p>\n",
       "</div>"
      ],
      "text/plain": [
       "                    요리명                                                 재료  \\\n",
       "0            칼륨 듬뿍 고구마죽  고구마죽\\n고구마 100g(2/3개), 설탕 2g(1/3작은술), 찹쌀가루 3g(2...   \n",
       "1            누룽지 두부 계란죽  채소준비\\n애호박 30g(1/6개), 표고버섯 20g(2개), 당근 5g(3×2×1...   \n",
       "2              오색지라시 스시  초밥\\n밥 210g(1공기)\\n배합초\\n식초 20g(1⅓큰술), 설탕 10g(2작은...   \n",
       "3          두부 곤약 나물 비빔밥  두부 곤약잡곡밥\\n두부 110g(⅓모), 흰쌀 15g, 현미쌀 3g, 찹쌀 3g, ...   \n",
       "4    저염 간장을 이용한 닭개장 비빔밥  흑미밥\\n쌀 90g, 검은 쌀 10g\\n닭가슴살 삶기\\n닭가슴살 40g(1/3개),...   \n",
       "..                  ...                                                ...   \n",
       "995  과일과 해산물을 곁들인 야채 전병  새우 15g, 홍합 8g, 바지락 8g, 관자 8g, 피망 8g, 오이 10g, 키...   \n",
       "996         낫토 시래기 라이스전  밥 40g, 양파다진것 10g, 당근다진것 5g, 낫토 15g, 시래기불린것 10g...   \n",
       "997             나스와 샐러드  달걀 20g, 완두콩 5g, 오이 10g, 토마토 20g, 레드어니언 10g, 로메...   \n",
       "998                다시마전  다시마 30g, 영양부추 3g, 청고추다진것 3g, 홍고추다진것 3g, 새우살다진것...   \n",
       "999               모듬옥수수  옥수수 35g, 잣 3g, 청피망 25g, 당근 25g, 닭고기 35g, 식용유 1...   \n",
       "\n",
       "                                                   요리법  \n",
       "0     고구마는 깨끗이 씻어서 껍질을 벗기고 4m 정도로 잘라준다. 찜기에 고구마를 넣고...  \n",
       "1     깨끗이 씻어 손질한 애호박, 당근과 기둥을 뗀 표고버섯을 잘게 다지듯이 썬다. 누...  \n",
       "2     배합초는 중불에서 설탕이 녹을 때까지 저어가면서 녹인다. 뜨거운 밥에 배합초를 넣...  \n",
       "3     고사리는 상태에 따라 2~5시간 정도 불린 후 30분 정도 삶아 찬물에 헹구어 물...  \n",
       "4     쌀은 30분 정도 불린 후 물을 1:1로 하여 밥을 짓는다. 숙주는 끓는 소금물에...  \n",
       "..                                                 ...  \n",
       "995   새우, 홍합, 바지락의 껍질을 제거하여 살만 발라 1m 정도의 주사위모양으로 썰어...  \n",
       "996   양파와 당근은 잘게 다진다. 시래기는 불려 물기를 꼭 짜낸다. 2번의 시래기를 곱...  \n",
       "997   달걀은 완숙으로 삶아 껍질을 벗긴 뒤 세로로 4등분하고 완두콩은 끓는 물에 삶아 ...  \n",
       "998   냄비에 다시마가 잠길 정도의 물을 붓고 중불에서 삶아 10여분 두었다가 건져 찬물...  \n",
       "999   청피망, 당근, 닭고기를 옥수수알 크기로 썬다. 팬에 닭고기를 볶는다. 2에 당근...  \n",
       "\n",
       "[1000 rows x 3 columns]"
      ]
     },
     "execution_count": 93,
     "metadata": {},
     "output_type": "execute_result"
    }
   ],
   "source": [
    "df"
   ]
  },
  {
   "cell_type": "code",
   "execution_count": null,
   "id": "circular-annex",
   "metadata": {},
   "outputs": [],
   "source": []
  },
  {
   "cell_type": "code",
   "execution_count": null,
   "id": "threaded-darwin",
   "metadata": {},
   "outputs": [],
   "source": []
  },
  {
   "cell_type": "code",
   "execution_count": null,
   "id": "identified-workshop",
   "metadata": {},
   "outputs": [],
   "source": []
  },
  {
   "cell_type": "code",
   "execution_count": null,
   "id": "subject-spare",
   "metadata": {},
   "outputs": [],
   "source": []
  },
  {
   "cell_type": "code",
   "execution_count": null,
   "id": "internal-shopping",
   "metadata": {},
   "outputs": [],
   "source": []
  },
  {
   "cell_type": "code",
   "execution_count": null,
   "id": "wireless-berkeley",
   "metadata": {},
   "outputs": [],
   "source": []
  },
  {
   "cell_type": "code",
   "execution_count": null,
   "id": "documentary-seller",
   "metadata": {},
   "outputs": [],
   "source": []
  },
  {
   "cell_type": "code",
   "execution_count": null,
   "id": "democratic-navigator",
   "metadata": {},
   "outputs": [],
   "source": []
  },
  {
   "cell_type": "code",
   "execution_count": null,
   "id": "domestic-killing",
   "metadata": {},
   "outputs": [],
   "source": []
  },
  {
   "cell_type": "code",
   "execution_count": null,
   "id": "known-attention",
   "metadata": {},
   "outputs": [],
   "source": []
  }
 ],
 "metadata": {
  "kernelspec": {
   "display_name": "Python 3",
   "language": "python",
   "name": "python3"
  },
  "language_info": {
   "codemirror_mode": {
    "name": "ipython",
    "version": 3
   },
   "file_extension": ".py",
   "mimetype": "text/x-python",
   "name": "python",
   "nbconvert_exporter": "python",
   "pygments_lexer": "ipython3",
   "version": "3.7.1"
  }
 },
 "nbformat": 4,
 "nbformat_minor": 5
}
